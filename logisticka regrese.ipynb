{
 "cells": [
  {
   "cell_type": "code",
   "execution_count": 2,
   "metadata": {},
   "outputs": [],
   "source": [
    "import pandas as pd\n",
    "import statsmodels.api as sm\n",
    "from statsmodels.discrete.discrete_model import Logit"
   ]
  },
  {
   "cell_type": "code",
   "execution_count": 3,
   "metadata": {},
   "outputs": [
    {
     "data": {
      "text/html": [
       "<div>\n",
       "<style scoped>\n",
       "    .dataframe tbody tr th:only-of-type {\n",
       "        vertical-align: middle;\n",
       "    }\n",
       "\n",
       "    .dataframe tbody tr th {\n",
       "        vertical-align: top;\n",
       "    }\n",
       "\n",
       "    .dataframe thead th {\n",
       "        text-align: right;\n",
       "    }\n",
       "</style>\n",
       "<table border=\"1\" class=\"dataframe\">\n",
       "  <thead>\n",
       "    <tr style=\"text-align: right;\">\n",
       "      <th></th>\n",
       "      <th>SMOKING</th>\n",
       "      <th>LUNG_CANCER</th>\n",
       "    </tr>\n",
       "  </thead>\n",
       "  <tbody>\n",
       "    <tr>\n",
       "      <th>0</th>\n",
       "      <td>1</td>\n",
       "      <td>1</td>\n",
       "    </tr>\n",
       "    <tr>\n",
       "      <th>1</th>\n",
       "      <td>2</td>\n",
       "      <td>1</td>\n",
       "    </tr>\n",
       "    <tr>\n",
       "      <th>2</th>\n",
       "      <td>1</td>\n",
       "      <td>0</td>\n",
       "    </tr>\n",
       "    <tr>\n",
       "      <th>3</th>\n",
       "      <td>2</td>\n",
       "      <td>0</td>\n",
       "    </tr>\n",
       "    <tr>\n",
       "      <th>4</th>\n",
       "      <td>1</td>\n",
       "      <td>0</td>\n",
       "    </tr>\n",
       "    <tr>\n",
       "      <th>...</th>\n",
       "      <td>...</td>\n",
       "      <td>...</td>\n",
       "    </tr>\n",
       "    <tr>\n",
       "      <th>304</th>\n",
       "      <td>1</td>\n",
       "      <td>1</td>\n",
       "    </tr>\n",
       "    <tr>\n",
       "      <th>305</th>\n",
       "      <td>2</td>\n",
       "      <td>1</td>\n",
       "    </tr>\n",
       "    <tr>\n",
       "      <th>306</th>\n",
       "      <td>2</td>\n",
       "      <td>1</td>\n",
       "    </tr>\n",
       "    <tr>\n",
       "      <th>307</th>\n",
       "      <td>2</td>\n",
       "      <td>1</td>\n",
       "    </tr>\n",
       "    <tr>\n",
       "      <th>308</th>\n",
       "      <td>1</td>\n",
       "      <td>1</td>\n",
       "    </tr>\n",
       "  </tbody>\n",
       "</table>\n",
       "<p>309 rows × 2 columns</p>\n",
       "</div>"
      ],
      "text/plain": [
       "     SMOKING  LUNG_CANCER\n",
       "0          1            1\n",
       "1          2            1\n",
       "2          1            0\n",
       "3          2            0\n",
       "4          1            0\n",
       "..       ...          ...\n",
       "304        1            1\n",
       "305        2            1\n",
       "306        2            1\n",
       "307        2            1\n",
       "308        1            1\n",
       "\n",
       "[309 rows x 2 columns]"
      ]
     },
     "metadata": {},
     "output_type": "display_data"
    },
    {
     "data": {
      "text/plain": [
       "GENDER                   0.067254\n",
       "AGE                      0.089465\n",
       "SMOKING                  0.058179\n",
       "YELLOW_FINGERS           0.181339\n",
       "ANXIETY                  0.144947\n",
       "PEER_PRESSURE            0.186388\n",
       "CHRONIC_DISEASE          0.110891\n",
       "FATIGUE                  0.150673\n",
       "ALLERGY                  0.327766\n",
       "WHEEZING                 0.249300\n",
       "ALCOHOL_CONSUMING        0.288533\n",
       "COUGHING                 0.248570\n",
       "SHORTNESS OF BREATH      0.060738\n",
       "SWALLOWING_DIFFICULTY    0.259730\n",
       "CHEST_PAIN               0.190451\n",
       "LUNG_CANCER              1.000000\n",
       "Name: LUNG_CANCER, dtype: float64"
      ]
     },
     "execution_count": 3,
     "metadata": {},
     "output_type": "execute_result"
    }
   ],
   "source": [
    "df = pd.read_csv(fr\"survey_lung_cancerdata.csv\")\n",
    "df['LUNG_CANCER'] = df['LUNG_CANCER'].replace({'YES': 1, 'NO': 0})\n",
    "df['GENDER'] = df['GENDER'].replace({'M': 2, 'F': 1})\n",
    "display(df[['SMOKING','LUNG_CANCER']])\n",
    "df.corr()['LUNG_CANCER']"
   ]
  },
  {
   "cell_type": "code",
   "execution_count": 4,
   "metadata": {},
   "outputs": [
    {
     "name": "stdout",
     "output_type": "stream",
     "text": [
      "Optimization terminated successfully.\n",
      "         Current function value: 0.272581\n",
      "         Iterations 8\n",
      "                           Logit Regression Results                           \n",
      "==============================================================================\n",
      "Dep. Variable:            LUNG_CANCER   No. Observations:                  309\n",
      "Model:                          Logit   Df Residuals:                      303\n",
      "Method:                           MLE   Df Model:                            5\n",
      "Date:                Mon, 20 Nov 2023   Pseudo R-squ.:                  0.2810\n",
      "Time:                        13:18:42   Log-Likelihood:                -84.228\n",
      "converged:                       True   LL-Null:                       -117.15\n",
      "Covariance Type:            nonrobust   LLR p-value:                 7.488e-13\n",
      "=========================================================================================\n",
      "                            coef    std err          z      P>|z|      [0.025      0.975]\n",
      "-----------------------------------------------------------------------------------------\n",
      "AGE                      -0.0906      0.019     -4.792      0.000      -0.128      -0.054\n",
      "PEER_PRESSURE             0.8577      0.440      1.948      0.051      -0.005       1.721\n",
      "ALLERGY                   1.6225      0.481      3.371      0.001       0.679       2.566\n",
      "ALCOHOL_CONSUMING         0.8455      0.460      1.839      0.066      -0.056       1.747\n",
      "COUGHING                  0.9036      0.433      2.089      0.037       0.056       1.752\n",
      "SWALLOWING_DIFFICULTY     1.2899      0.454      2.842      0.004       0.400       2.180\n",
      "=========================================================================================\n"
     ]
    }
   ],
   "source": [
    "x = df[[\"AGE\", 'PEER_PRESSURE', 'ALLERGY', 'ALCOHOL_CONSUMING', 'COUGHING','SWALLOWING_DIFFICULTY']]\n",
    "y = df[\"LUNG_CANCER\"]\n",
    "sm.add_constant(x)\n",
    "logit = Logit(y,x).fit()\n",
    "print(logit.summary())"
   ]
  },
  {
   "cell_type": "code",
   "execution_count": 5,
   "metadata": {},
   "outputs": [
    {
     "data": {
      "text/html": [
       "<div>\n",
       "<style scoped>\n",
       "    .dataframe tbody tr th:only-of-type {\n",
       "        vertical-align: middle;\n",
       "    }\n",
       "\n",
       "    .dataframe tbody tr th {\n",
       "        vertical-align: top;\n",
       "    }\n",
       "\n",
       "    .dataframe thead th {\n",
       "        text-align: right;\n",
       "    }\n",
       "</style>\n",
       "<table border=\"1\" class=\"dataframe\">\n",
       "  <thead>\n",
       "    <tr style=\"text-align: right;\">\n",
       "      <th></th>\n",
       "      <th>Predicted Positive</th>\n",
       "      <th>Predicted Negative</th>\n",
       "    </tr>\n",
       "  </thead>\n",
       "  <tbody>\n",
       "    <tr>\n",
       "      <th>Actualy Positive</th>\n",
       "      <td>251</td>\n",
       "      <td>18</td>\n",
       "    </tr>\n",
       "    <tr>\n",
       "      <th>Actualy Negative</th>\n",
       "      <td>21</td>\n",
       "      <td>19</td>\n",
       "    </tr>\n",
       "  </tbody>\n",
       "</table>\n",
       "</div>"
      ],
      "text/plain": [
       "                  Predicted Positive  Predicted Negative\n",
       "Actualy Positive                 251                  18\n",
       "Actualy Negative                  21                  19"
      ]
     },
     "execution_count": 5,
     "metadata": {},
     "output_type": "execute_result"
    }
   ],
   "source": [
    "predikce = logit.predict(x)\n",
    "bool_predikce = []\n",
    "\n",
    "#>> zmena na true/false\n",
    "#@ threshold\n",
    "threshold = 0.75\n",
    "for p in predikce:\n",
    "    if p > threshold:\n",
    "        p = True\n",
    "    else:\n",
    "        p = False\n",
    "    bool_predikce.append(p)\n",
    "\n",
    "#>> confusion matrix\n",
    "tp = tn = fp = fn = 0\n",
    "for i in range(0,len(predikce)):\n",
    "    if bool_predikce[i] and y[i]:\n",
    "        tp += 1\n",
    "    elif not bool_predikce[i] and not y[i]:\n",
    "        tn += 1\n",
    "    elif bool_predikce[i] and not y[i]:\n",
    "        fp += 1\n",
    "    elif not bool_predikce[i] and y[i]:\n",
    "        fn += 1\n",
    "pd.DataFrame([[tp, fp],\n",
    "                [tn, fn]],\n",
    "                index = [\"Actualy Positive\", \"Actualy Negative\"], columns=[\"Predicted Positive\", \"Predicted Negative\"])\n"
   ]
  },
  {
   "cell_type": "code",
   "execution_count": 11,
   "metadata": {},
   "outputs": [
    {
     "data": {
      "text/plain": [
       "[<matplotlib.lines.Line2D at 0x205dcb82a40>]"
      ]
     },
     "execution_count": 11,
     "metadata": {},
     "output_type": "execute_result"
    },
    {
     "data": {
      "image/png": "[encoded data removed]",
      "text/plain": [
       "<Figure size 640x480 with 1 Axes>"
      ]
     },
     "metadata": {},
     "output_type": "display_data"
    }
   ],
   "source": [
    "from matplotlib import pyplot as plt\n",
    "#>> graf ROC curve\n",
    "tpr = tp / (tp + fn)\n",
    "fpr = fp / (fp + tn)\n",
    "plt.plot(fpr, tpr, marker='o', color='green')"
   ]
  }
 ],
 "metadata": {
  "kernelspec": {
   "display_name": "Python 3",
   "language": "python",
   "name": "python3"
  },
  "language_info": {
   "codemirror_mode": {
    "name": "ipython",
    "version": 3
   },
   "file_extension": ".py",
   "mimetype": "text/x-python",
   "name": "python",
   "nbconvert_exporter": "python",
   "pygments_lexer": "ipython3",
   "version": "3.10.11"
  }
 },
 "nbformat": 4,
 "nbformat_minor": 2
}
